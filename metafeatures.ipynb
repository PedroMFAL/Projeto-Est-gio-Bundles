{
 "cells": [
  {
   "cell_type": "code",
   "execution_count": 1,
   "id": "e23af0a7",
   "metadata": {},
   "outputs": [
    {
     "ename": "NameError",
     "evalue": "name 'np' is not defined",
     "output_type": "error",
     "traceback": [
      "\u001b[1;31m---------------------------------------------------------------------------\u001b[0m",
      "\u001b[1;31mNameError\u001b[0m                                 Traceback (most recent call last)",
      "Cell \u001b[1;32mIn[1], line 33\u001b[0m\n\u001b[0;32m     30\u001b[0m     data_size \u001b[38;5;241m=\u001b[39m \u001b[38;5;28mtuple\u001b[39m(\u001b[38;5;28mmap\u001b[39m(\u001b[38;5;28mint\u001b[39m, f\u001b[38;5;241m.\u001b[39mreadline()\u001b[38;5;241m.\u001b[39msplit()))\n\u001b[0;32m     32\u001b[0m     \u001b[38;5;66;03m# Create user-bundle matrix\u001b[39;00m\n\u001b[1;32m---> 33\u001b[0m matrix \u001b[38;5;241m=\u001b[39m \u001b[43mcreate_user_bundle_matrix\u001b[49m\u001b[43m(\u001b[49m\u001b[43mall_data_file\u001b[49m\u001b[43m,\u001b[49m\u001b[43m \u001b[49m\u001b[43mdata_size\u001b[49m\u001b[43m)\u001b[49m\n\u001b[0;32m     35\u001b[0m     \u001b[38;5;66;03m# Save matrix as .npy file\u001b[39;00m\n\u001b[0;32m     36\u001b[0m output_file \u001b[38;5;241m=\u001b[39m os\u001b[38;5;241m.\u001b[39mpath\u001b[38;5;241m.\u001b[39mjoin(dataset_folder, \u001b[38;5;124m\"\u001b[39m\u001b[38;5;124muser_bundle_matrix.npy\u001b[39m\u001b[38;5;124m\"\u001b[39m)\n",
      "Cell \u001b[1;32mIn[1], line 6\u001b[0m, in \u001b[0;36mcreate_user_bundle_matrix\u001b[1;34m(all_data_file, data_size)\u001b[0m\n\u001b[0;32m      3\u001b[0m num_users, num_bundles, _ \u001b[38;5;241m=\u001b[39m data_size\n\u001b[0;32m      5\u001b[0m \u001b[38;5;66;03m# Initialize matrix with zeros\u001b[39;00m\n\u001b[1;32m----> 6\u001b[0m matrix \u001b[38;5;241m=\u001b[39m \u001b[43mnp\u001b[49m\u001b[38;5;241m.\u001b[39mzeros((num_users, num_bundles), dtype\u001b[38;5;241m=\u001b[39m\u001b[38;5;28mint\u001b[39m)\n\u001b[0;32m      8\u001b[0m \u001b[38;5;66;03m# Read data from all_data.txt\u001b[39;00m\n\u001b[0;32m      9\u001b[0m \u001b[38;5;28;01mwith\u001b[39;00m \u001b[38;5;28mopen\u001b[39m(all_data_file, \u001b[38;5;124m\"\u001b[39m\u001b[38;5;124mr\u001b[39m\u001b[38;5;124m\"\u001b[39m) \u001b[38;5;28;01mas\u001b[39;00m f:\n",
      "\u001b[1;31mNameError\u001b[0m: name 'np' is not defined"
     ]
    }
   ],
   "source": [
    "import os\n",
    "def create_user_bundle_matrix(all_data_file, data_size):\n",
    "    num_users, num_bundles, _ = data_size\n",
    "    \n",
    "    # Initialize matrix with zeros\n",
    "    matrix = np.zeros((num_users, num_bundles), dtype=int)\n",
    "    \n",
    "    # Read data from all_data.txt\n",
    "    with open(all_data_file, \"r\") as f:\n",
    "        for line in f:\n",
    "            user, bundle = map(int, line.strip().split())\n",
    "            matrix[user, bundle] = 1\n",
    "    \n",
    "    return matrix\n",
    "\n",
    "root_folder = \"C:/Users/35192/Desktop/codigo/codigos.py/projeto-ia-bundle/MultiCBR-main/datasets\"\n",
    "dataset_names = [\"NetEase\", \"iFashion\", \"Youshu\", \"Steam\", \"MealRec-17\",]\n",
    "\n",
    "    \n",
    "for dataset_name in dataset_names:\n",
    "    dataset_folder = os.path.join(root_folder, dataset_name)\n",
    "    all_data_file = os.path.join(dataset_folder, \"all_data.txt\")\n",
    "    if len(dataset_name)> 13:\n",
    "        name = dataset_name.split(\"/\")\n",
    "        data_size_file = os.path.join(dataset_folder, f\"{name[1]}_data_size.txt\")\n",
    "    else:\n",
    "        data_size_file = os.path.join(dataset_folder, f\"{dataset_name}_data_size.txt\")\n",
    "        # Read data size from datasetname_data_size.txt\n",
    "    with open(data_size_file, \"r\") as f:\n",
    "        data_size = tuple(map(int, f.readline().split()))\n",
    "        \n",
    "        # Create user-bundle matrix\n",
    "    matrix = create_user_bundle_matrix(all_data_file, data_size)\n",
    "        \n",
    "        # Save matrix as .npy file\n",
    "    output_file = os.path.join(dataset_folder, \"user_bundle_matrix.npy\")\n",
    "    np.save(output_file, matrix)"
   ]
  },
  {
   "cell_type": "code",
   "execution_count": null,
   "id": "da906689",
   "metadata": {},
   "outputs": [],
   "source": []
  },
  {
   "cell_type": "code",
   "execution_count": null,
   "id": "05c90f22",
   "metadata": {},
   "outputs": [],
   "source": [
    "import pandas as pd\n",
    "def create_pandaframe(path):\n",
    "    d = np.load(path)\n",
    "    return pd.DataFrame(d)\n",
    "    "
   ]
  },
  {
   "cell_type": "code",
   "execution_count": null,
   "id": "49dd05eb",
   "metadata": {},
   "outputs": [],
   "source": [
    "def calculate_meta_features(df):\n",
    "    # Helper function to calculate Gini coefficient\n",
    "    \n",
    "    # 1. Entropy of column count\n",
    "    column_counts = df.count()\n",
    "    column_count_entropy = entropy(column_counts)\n",
    "\n",
    "    # 4. Mean of column count\n",
    "    column_count_mean = column_counts.mean()\n",
    "\n",
    "    # 5. Entropy of column mean\n",
    "    column_means = df.mean()\n",
    "    column_mean_entropy = entropy(column_means)\n",
    "\n",
    "    # 6. Entropy of row count\n",
    "    row_counts = df.count(axis=1)\n",
    "    row_count_entropy = entropy(row_counts)\n",
    "\n",
    "    # 8. Max value of row count\n",
    "    row_count_max = row_counts.max()\n",
    "\n",
    "    # 9. Number of binary attributes\n",
    "    num_binary_attributes = sum(df.apply(lambda col: col.dropna().isin([0, 1]).all()))\n",
    "\n",
    "    # 10. Mean value of attributes concentration\n",
    "    mean_attributes_concentration = df.apply(lambda col: col.value_counts(normalize=True).max())\n",
    "\n",
    "    # 11. Mean value of attributes entropy\n",
    "    mean_attributes_entropy = df.apply(lambda col: entropy(col.value_counts(normalize=True)))\n",
    "\n",
    "    # 12. Number of zeros on entire dataset\n",
    "    num_zeros = (df == 0).sum().sum()\n",
    "\n",
    "    # 13. Sparsity of entire dataset\n",
    "    total_elements = df.size\n",
    "    sparsity = num_zeros / total_elements\n",
    "\n",
    "    meta_features = [ column_count_entropy,\n",
    "         column_count_mean,\n",
    "         column_mean_entropy,\n",
    "         row_count_entropy,\n",
    "         row_count_max,\n",
    "         mean_attributes_concentration.mean(),\n",
    "         mean_attributes_entropy.mean(),\n",
    "         num_zeros,\n",
    "         sparsity\n",
    "    ]\n",
    "\n",
    "    return meta_features"
   ]
  },
  {
   "cell_type": "code",
   "execution_count": null,
   "id": "2654ed07",
   "metadata": {},
   "outputs": [],
   "source": [
    "from scipy.stats import entropy, kurtosis\n",
    "root_folder = \"C:/Users/35192/Desktop/codigo/codigos.py/projeto-ia-bundle/EBRec-main/datasets\"\n",
    "dataset_names = [\"NetEase\", \"iFashion\", \"Youshu\", \"Steam\", \"MealRec-17\"]\n",
    "\n",
    "data = pd.DataFrame(columns=[\"name\",'column.count.entropy','column.count.mean','column.mean.entropy','row.count.entropy',\n",
    "                            'row.count.max','mean.attributes.concentration','mean.attributes.entropy',\n",
    "                            'num.zeros','sparsity'])\n",
    "\n",
    "for dataset_name in dataset_names:\n",
    "    dataset_folder = os.path.join(root_folder, dataset_name)\n",
    "    path = os.path.join(dataset_folder, \"user_bundle_matrix.npy\")\n",
    "    df = create_pandaframe(path)\n",
    "    if len(dataset_name)>14:\n",
    "        na= dataset_name.split(\"/\")\n",
    "        na= na[1]\n",
    "    else:\n",
    "        na=dataset_name\n",
    "    a=calculate_meta_features(df)\n",
    "    a.insert(0,na)\n",
    "    data.loc[len(data.index)] = a\n",
    "    print(a)\n"
   ]
  },
  {
   "cell_type": "code",
   "execution_count": null,
   "id": "308713f5",
   "metadata": {},
   "outputs": [],
   "source": [
    "data.to_pickle(\"data.pkl\")"
   ]
  },
  {
   "cell_type": "code",
   "execution_count": null,
   "id": "e1fe2d00",
   "metadata": {},
   "outputs": [],
   "source": [
    "y = pd.DataFrame([\"multiCBR\",\"multiCBR\",\"multiCBR\",\"ebrec\",\"crossCBR\",\n",
    "                  \"crossCBR\",\"crossCBR\",\"crossCBR\",\n",
    "                  \"crossCBR\",\"crossCBR\",\"crossCBR\",\n",
    "                  \"crossCBR\",\"crossCBR\",\"crossCBR\",\n",
    "                  \"crossCBR\",\"crossCBR\",\"crossCBR\",\n",
    "                  \"multiCBR\",\"crossCBR\",\"crossCBR\"], columns=[\"best_algorit\"])"
   ]
  },
  {
   "cell_type": "code",
   "execution_count": null,
   "id": "eb7501b0",
   "metadata": {},
   "outputs": [],
   "source": [
    "ds = pd.read_pickle(\"data.pkl\")\n",
    "ds[\"best_algorit\"] = y\n",
    "ds.to_pickle(\"data.pkl\")"
   ]
  }
 ],
 "metadata": {
  "kernelspec": {
   "display_name": "Python 3 (ipykernel)",
   "language": "python",
   "name": "python3"
  },
  "language_info": {
   "codemirror_mode": {
    "name": "ipython",
    "version": 3
   },
   "file_extension": ".py",
   "mimetype": "text/x-python",
   "name": "python",
   "nbconvert_exporter": "python",
   "pygments_lexer": "ipython3",
   "version": "3.11.8"
  }
 },
 "nbformat": 4,
 "nbformat_minor": 5
}
